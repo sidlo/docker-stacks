{
 "cells": [
  {
   "cell_type": "markdown",
   "metadata": {},
   "source": [
    "# Experimental simple performance testing notebook for Pandas\n",
    "- testing and comparing simple dataframe / sql operations of commong data (pre-)processing tasks \n",
    "- various available single-machine Python solutions are to be tested: Pandas, PySpark, Turi Create and Dask.\n",
    "- execution times, CPU load and maximal memory use should be tracked\n",
    "\n",
    "## Kiva dataset \n",
    "- [Kiva](https://www.kaggle.com/gaborfodor/additional-kiva-snapshot): crowdfunding data with lenders and loans, with additional geographic data\n",
    "- Pandas Kiva examples: https://www.kaggle.com/gaborfodor/additional-kiva-snapshot/kernels?sortBy=hotness&group=everyone&pageSize=20&datasetId=14345&language=Python\n"
   ]
  },
  {
   "cell_type": "markdown",
   "metadata": {},
   "source": [
    "## imports, setup"
   ]
  },
  {
   "cell_type": "code",
   "execution_count": 4,
   "metadata": {},
   "outputs": [],
   "source": [
    "import timeit\n",
    "import matplotlib.pyplot as plt\n",
    "import numpy as np\n",
    "import pandas as pd\n",
    "plt.style.use('fivethirtyeight')\n",
    "%matplotlib inline"
   ]
  },
  {
   "cell_type": "markdown",
   "metadata": {},
   "source": [
    "## read files to dataframes: loans and lenders"
   ]
  },
  {
   "cell_type": "code",
   "execution_count": 5,
   "metadata": {},
   "outputs": [
    {
     "name": "stdout",
     "output_type": "stream",
     "text": [
      "loans:  (1419607, 31)\n",
      "lenders:  (2349174, 11)\n",
      "ellapsed time:  36.30365106799945\n"
     ]
    }
   ],
   "source": [
    "start = timeit.default_timer()\n",
    "\n",
    "loans_df = pd.read_csv(\"../../kiva/loans.csv\", parse_dates=['raised_time']) # 2.1 GB, 1.419.607 lines\n",
    "print('loans: ', loans_df.shape)\n",
    "\n",
    "lenders_df = pd.read_csv(\"../../kiva/lenders.csv\") #, parse_dates=['raised_time'])  # 130 MB file\n",
    "print('lenders: ', lenders_df.shape)\n",
    "\n",
    "print('ellapsed time: ', timeit.default_timer() - start)"
   ]
  },
  {
   "cell_type": "code",
   "execution_count": 10,
   "metadata": {
    "scrolled": true
   },
   "outputs": [
    {
     "data": {
      "text/html": [
       "<div>\n",
       "<style scoped>\n",
       "    .dataframe tbody tr th:only-of-type {\n",
       "        vertical-align: middle;\n",
       "    }\n",
       "\n",
       "    .dataframe tbody tr th {\n",
       "        vertical-align: top;\n",
       "    }\n",
       "\n",
       "    .dataframe thead th {\n",
       "        text-align: right;\n",
       "    }\n",
       "</style>\n",
       "<table border=\"1\" class=\"dataframe\">\n",
       "  <thead>\n",
       "    <tr style=\"text-align: right;\">\n",
       "      <th></th>\n",
       "      <th>loan_id</th>\n",
       "      <th>loan_name</th>\n",
       "      <th>original_language</th>\n",
       "      <th>description</th>\n",
       "      <th>description_translated</th>\n",
       "      <th>funded_amount</th>\n",
       "      <th>loan_amount</th>\n",
       "      <th>status</th>\n",
       "      <th>activity_name</th>\n",
       "      <th>sector_name</th>\n",
       "      <th>...</th>\n",
       "      <th>raised_time</th>\n",
       "      <th>lender_term</th>\n",
       "      <th>num_lenders_total</th>\n",
       "      <th>num_journal_entries</th>\n",
       "      <th>num_bulk_entries</th>\n",
       "      <th>tags</th>\n",
       "      <th>borrower_genders</th>\n",
       "      <th>borrower_pictured</th>\n",
       "      <th>repayment_interval</th>\n",
       "      <th>distribution_model</th>\n",
       "    </tr>\n",
       "  </thead>\n",
       "  <tbody>\n",
       "    <tr>\n",
       "      <th>0</th>\n",
       "      <td>657307</td>\n",
       "      <td>Aivy</td>\n",
       "      <td>English</td>\n",
       "      <td>Aivy, 21 years of age, is single and lives in ...</td>\n",
       "      <td>NaN</td>\n",
       "      <td>125.0</td>\n",
       "      <td>125.0</td>\n",
       "      <td>funded</td>\n",
       "      <td>General Store</td>\n",
       "      <td>Retail</td>\n",
       "      <td>...</td>\n",
       "      <td>2014-01-15 04:48:22</td>\n",
       "      <td>7.0</td>\n",
       "      <td>3</td>\n",
       "      <td>2</td>\n",
       "      <td>1</td>\n",
       "      <td>NaN</td>\n",
       "      <td>female</td>\n",
       "      <td>true</td>\n",
       "      <td>irregular</td>\n",
       "      <td>field_partner</td>\n",
       "    </tr>\n",
       "    <tr>\n",
       "      <th>1</th>\n",
       "      <td>657259</td>\n",
       "      <td>Idalia Marizza</td>\n",
       "      <td>Spanish</td>\n",
       "      <td>Doña Idalia, esta casada, tiene 57 años de eda...</td>\n",
       "      <td>Idalia, 57, is married and lives with her husb...</td>\n",
       "      <td>400.0</td>\n",
       "      <td>400.0</td>\n",
       "      <td>funded</td>\n",
       "      <td>Used Clothing</td>\n",
       "      <td>Clothing</td>\n",
       "      <td>...</td>\n",
       "      <td>2014-02-25 06:42:06</td>\n",
       "      <td>8.0</td>\n",
       "      <td>11</td>\n",
       "      <td>2</td>\n",
       "      <td>1</td>\n",
       "      <td>NaN</td>\n",
       "      <td>female</td>\n",
       "      <td>true</td>\n",
       "      <td>monthly</td>\n",
       "      <td>field_partner</td>\n",
       "    </tr>\n",
       "  </tbody>\n",
       "</table>\n",
       "<p>2 rows × 31 columns</p>\n",
       "</div>"
      ],
      "text/plain": [
       "   loan_id       loan_name original_language  \\\n",
       "0   657307            Aivy           English   \n",
       "1   657259  Idalia Marizza           Spanish   \n",
       "\n",
       "                                         description  \\\n",
       "0  Aivy, 21 years of age, is single and lives in ...   \n",
       "1  Doña Idalia, esta casada, tiene 57 años de eda...   \n",
       "\n",
       "                              description_translated  funded_amount  \\\n",
       "0                                                NaN          125.0   \n",
       "1  Idalia, 57, is married and lives with her husb...          400.0   \n",
       "\n",
       "   loan_amount  status  activity_name sector_name        ...          \\\n",
       "0        125.0  funded  General Store      Retail        ...           \n",
       "1        400.0  funded  Used Clothing    Clothing        ...           \n",
       "\n",
       "          raised_time lender_term num_lenders_total num_journal_entries  \\\n",
       "0 2014-01-15 04:48:22         7.0                 3                   2   \n",
       "1 2014-02-25 06:42:06         8.0                11                   2   \n",
       "\n",
       "  num_bulk_entries  tags borrower_genders  borrower_pictured  \\\n",
       "0                1   NaN           female               true   \n",
       "1                1   NaN           female               true   \n",
       "\n",
       "  repayment_interval distribution_model  \n",
       "0          irregular      field_partner  \n",
       "1            monthly      field_partner  \n",
       "\n",
       "[2 rows x 31 columns]"
      ]
     },
     "execution_count": 10,
     "metadata": {},
     "output_type": "execute_result"
    }
   ],
   "source": [
    "lenders_df.head(2)\n",
    "loans_df.head(2)"
   ]
  },
  {
   "cell_type": "markdown",
   "metadata": {},
   "source": [
    "## read, transform and count loan_lenders \n",
    "string enumeration to rows: split tuple strings to array, then explode the array to rows\n"
   ]
  },
  {
   "cell_type": "code",
   "execution_count": 2,
   "metadata": {},
   "outputs": [
    {
     "name": "stdout",
     "output_type": "stream",
     "text": [
      "ellapsed time:  374.69706755699985\n"
     ]
    },
    {
     "data": {
      "text/html": [
       "<div>\n",
       "<style scoped>\n",
       "    .dataframe tbody tr th:only-of-type {\n",
       "        vertical-align: middle;\n",
       "    }\n",
       "\n",
       "    .dataframe tbody tr th {\n",
       "        vertical-align: top;\n",
       "    }\n",
       "\n",
       "    .dataframe thead th {\n",
       "        text-align: right;\n",
       "    }\n",
       "</style>\n",
       "<table border=\"1\" class=\"dataframe\">\n",
       "  <thead>\n",
       "    <tr style=\"text-align: right;\">\n",
       "      <th></th>\n",
       "      <th>loan_id</th>\n",
       "      <th>lender</th>\n",
       "    </tr>\n",
       "  </thead>\n",
       "  <tbody>\n",
       "    <tr>\n",
       "      <th>0</th>\n",
       "      <td>483693</td>\n",
       "      <td>muc888</td>\n",
       "    </tr>\n",
       "    <tr>\n",
       "      <th>1</th>\n",
       "      <td>483693</td>\n",
       "      <td>sam4326</td>\n",
       "    </tr>\n",
       "    <tr>\n",
       "      <th>2</th>\n",
       "      <td>483693</td>\n",
       "      <td>camaran3922</td>\n",
       "    </tr>\n",
       "    <tr>\n",
       "      <th>3</th>\n",
       "      <td>483693</td>\n",
       "      <td>lachheb1865</td>\n",
       "    </tr>\n",
       "    <tr>\n",
       "      <th>4</th>\n",
       "      <td>483693</td>\n",
       "      <td>rebecca3499</td>\n",
       "    </tr>\n",
       "  </tbody>\n",
       "</table>\n",
       "</div>"
      ],
      "text/plain": [
       "   loan_id       lender\n",
       "0   483693       muc888\n",
       "1   483693      sam4326\n",
       "2   483693  camaran3922\n",
       "3   483693  lachheb1865\n",
       "4   483693  rebecca3499"
      ]
     },
     "execution_count": 2,
     "metadata": {},
     "output_type": "execute_result"
    }
   ],
   "source": [
    "# version 1: this one is the best option\n",
    "# https://stackoverflow.com/questions/32468402/how-to-explode-a-list-inside-a-dataframe-cell-into-separate-rows\n",
    "start = timeit.default_timer()\n",
    "\n",
    "loans_lenders_raw_df = pd.read_csv(\"kiva/loans_lenders.csv\", #nrows=200000, \n",
    "                                   dtype={'loan_id': np.int32, 'lenders': object})\n",
    "# full: 339 MB file, 1.387.433 lines --> 6.3GB, 28.293.931 lines, 388 sec\n",
    "# 100.000 heading line --> 2.060.259 output lines\n",
    "# 200.000 heading line --> 4.110.948 output lines, 1.1 GB mem\n",
    "\n",
    "loans_lenders_raw_df.reset_index(inplace=True)\n",
    "rows = []\n",
    "_ = loans_lenders_raw_df.apply(lambda row: [rows.append([row['loan_id'], nn]) \n",
    "                         for nn in str.split(str.replace(row.lenders, ' ', ''), ',')], axis=1)\n",
    "\n",
    "loans_lenders_df = pd.DataFrame(rows, columns=['loan_id', 'lender']) #.set_index(['loan_id', 'lender'])\n",
    "\n",
    "print('ellapsed time: ', timeit.default_timer() - start)\n",
    "loans_lenders_df.head(5)"
   ]
  },
  {
   "cell_type": "code",
   "execution_count": null,
   "metadata": {},
   "outputs": [],
   "source": [
    "# version 2: \"The kernel appears to have died. It will restart automatically.\" after 7 minutes\n",
    "# https://stackoverflow.com/questions/50729552/split-column-containing-lists-into-different-rows-in-pandas\n",
    "start = timeit.default_timer()\n",
    "\n",
    "df = pd.read_csv(\"kiva/loans_lenders.csv\", nrows=200000, dtype={'loan_id': np.int32, 'lenders': object} ) \n",
    "# full: 339 MB file, 1.387.433 lines\n",
    "# 100.000 heading line --> 2.060.259 output lines\n",
    "# 200.000 heading line --> \n",
    "\n",
    "# convert string to list: \n",
    "df.loc[:,'lenders'] = df.loc[:,'lenders'].apply(lambda x: str.split(str.replace(x, ' ', ''), ','))\n",
    "\n",
    "# exploding to rows: \n",
    "s = df.apply(lambda x: pd.Series(x['lenders']), axis=1).stack().reset_index(level=1, drop=True)\n",
    "s.name = 'lenders'\n",
    "df2 = df.drop('lenders', axis=1).join(s)\n",
    "df2['lenders'] = pd.Series(df2['lenders'], dtype=object)\n",
    "df2.columns = ['loan_id','lender']\n",
    "\n",
    "print('ellapsed time: ', timeit.default_timer() - start)\n",
    "df2"
   ]
  },
  {
   "cell_type": "code",
   "execution_count": null,
   "metadata": {},
   "outputs": [],
   "source": [
    "# version 3: The kernel appears to have died. It will restart automatically. after 5 min.\n",
    "# also died with 12GB memory\n",
    "# https://stackoverflow.com/questions/27263805/pandas-when-cell-contents-are-lists-create-a-row-for-each-element-in-the-list\n",
    "start_time = timeit.default_timer()\n",
    "\n",
    "df = pd.read_csv(\"kiva/loans_lenders.csv\", nrows=100000) # 339 MB file, 1.387.433 lines\n",
    "# convert string to list: \n",
    "df.loc[:,'lenders'] = df.loc[:,'lenders'].apply(lambda x: str.split(x, ','))\n",
    "print('df read, arrays constructed.') \n",
    "\n",
    "# exploding to rows: \n",
    "res = df.set_index(['loan_id'])['lenders'].apply(pd.Series).stack()\n",
    "res = res.reset_index()\n",
    "res = res.drop('level_1', axis=1)\n",
    "res.columns = ['loan_id','lender']\n",
    "\n",
    "print('ellapsed time: ', timeit.default_timer() - start_time, ' sec.')\n",
    "res"
   ]
  },
  {
   "cell_type": "markdown",
   "metadata": {},
   "source": [
    "## join, filter and sort loan and lender data\n",
    "get distinct joined lines with renamed columns, then write to an output file (for fully materialized results)\n",
    "- filtering on lenders.country_code: \n",
    "  - 'US': 25% of lenders\n",
    "  - 'CA': 3% of lenders --> 3.5 GB joined"
   ]
  },
  {
   "cell_type": "code",
   "execution_count": 4,
   "metadata": {},
   "outputs": [
    {
     "name": "stdout",
     "output_type": "stream",
     "text": [
      "ellapsed time:  0.3428735840000172\n"
     ]
    }
   ],
   "source": [
    "start = timeit.default_timer()\n",
    "\n",
    "# filter unique lenders: CA: 67.970\n",
    "lenders_df = lenders_df[lenders_df['country_code']=='CA']\n",
    "\n",
    "print('ellapsed time: ', timeit.default_timer() - start)"
   ]
  },
  {
   "cell_type": "code",
   "execution_count": 5,
   "metadata": {},
   "outputs": [
    {
     "name": "stdout",
     "output_type": "stream",
     "text": [
      "ellapsed time:  179.1593884670001\n"
     ]
    }
   ],
   "source": [
    "start = timeit.default_timer()\n",
    "\n",
    "# join: \n",
    "joined_df_1 = pd.merge(loans_lenders_df, lenders_df, left_on='lender', right_on='permanent_name')\n",
    "joined_df = pd.merge(joined_df_1, loans_df, on='loan_id')\n",
    "\n",
    "joined_df.to_csv('kiva/pandas-result-joined.csv') # 3.7 GB\n",
    "\n",
    "print('ellapsed time: ', timeit.default_timer() - start)"
   ]
  },
  {
   "cell_type": "code",
   "execution_count": 8,
   "metadata": {},
   "outputs": [
    {
     "data": {
      "text/html": [
       "<div>\n",
       "<style scoped>\n",
       "    .dataframe tbody tr th:only-of-type {\n",
       "        vertical-align: middle;\n",
       "    }\n",
       "\n",
       "    .dataframe tbody tr th {\n",
       "        vertical-align: top;\n",
       "    }\n",
       "\n",
       "    .dataframe thead th {\n",
       "        text-align: right;\n",
       "    }\n",
       "</style>\n",
       "<table border=\"1\" class=\"dataframe\">\n",
       "  <thead>\n",
       "    <tr style=\"text-align: right;\">\n",
       "      <th></th>\n",
       "      <th>loan_id</th>\n",
       "      <th>lender</th>\n",
       "      <th>permanent_name</th>\n",
       "      <th>display_name</th>\n",
       "      <th>city</th>\n",
       "      <th>state</th>\n",
       "      <th>country_code_x</th>\n",
       "      <th>member_since</th>\n",
       "      <th>occupation</th>\n",
       "      <th>loan_because</th>\n",
       "      <th>...</th>\n",
       "      <th>raised_time</th>\n",
       "      <th>lender_term</th>\n",
       "      <th>num_lenders_total</th>\n",
       "      <th>num_journal_entries</th>\n",
       "      <th>num_bulk_entries</th>\n",
       "      <th>tags</th>\n",
       "      <th>borrower_genders</th>\n",
       "      <th>borrower_pictured</th>\n",
       "      <th>repayment_interval</th>\n",
       "      <th>distribution_model</th>\n",
       "    </tr>\n",
       "  </thead>\n",
       "  <tbody>\n",
       "    <tr>\n",
       "      <th>0</th>\n",
       "      <td>483693</td>\n",
       "      <td>alan5513</td>\n",
       "      <td>alan5513</td>\n",
       "      <td>Alan</td>\n",
       "      <td>Edmonton</td>\n",
       "      <td>Alberta</td>\n",
       "      <td>CA</td>\n",
       "      <td>1237674751</td>\n",
       "      <td>NaN</td>\n",
       "      <td>A small loan is an investment in enabling some...</td>\n",
       "      <td>...</td>\n",
       "      <td>2012-11-16 18:51:23</td>\n",
       "      <td>8.0</td>\n",
       "      <td>44</td>\n",
       "      <td>2</td>\n",
       "      <td>1</td>\n",
       "      <td>NaN</td>\n",
       "      <td>female</td>\n",
       "      <td>true</td>\n",
       "      <td>irregular</td>\n",
       "      <td>field_partner</td>\n",
       "    </tr>\n",
       "    <tr>\n",
       "      <th>1</th>\n",
       "      <td>483693</td>\n",
       "      <td>nick9464</td>\n",
       "      <td>nick9464</td>\n",
       "      <td>nick and anna</td>\n",
       "      <td>victoria</td>\n",
       "      <td>BC</td>\n",
       "      <td>CA</td>\n",
       "      <td>1277253851</td>\n",
       "      <td>self employed</td>\n",
       "      <td>it helps those who need help</td>\n",
       "      <td>...</td>\n",
       "      <td>2012-11-16 18:51:23</td>\n",
       "      <td>8.0</td>\n",
       "      <td>44</td>\n",
       "      <td>2</td>\n",
       "      <td>1</td>\n",
       "      <td>NaN</td>\n",
       "      <td>female</td>\n",
       "      <td>true</td>\n",
       "      <td>irregular</td>\n",
       "      <td>field_partner</td>\n",
       "    </tr>\n",
       "    <tr>\n",
       "      <th>2</th>\n",
       "      <td>483693</td>\n",
       "      <td>jason3883</td>\n",
       "      <td>jason3883</td>\n",
       "      <td>Jason C</td>\n",
       "      <td>Toronto</td>\n",
       "      <td>NaN</td>\n",
       "      <td>CA</td>\n",
       "      <td>1317399503</td>\n",
       "      <td>I \"Like\" It.</td>\n",
       "      <td>for a better tomorrow.</td>\n",
       "      <td>...</td>\n",
       "      <td>2012-11-16 18:51:23</td>\n",
       "      <td>8.0</td>\n",
       "      <td>44</td>\n",
       "      <td>2</td>\n",
       "      <td>1</td>\n",
       "      <td>NaN</td>\n",
       "      <td>female</td>\n",
       "      <td>true</td>\n",
       "      <td>irregular</td>\n",
       "      <td>field_partner</td>\n",
       "    </tr>\n",
       "    <tr>\n",
       "      <th>3</th>\n",
       "      <td>483693</td>\n",
       "      <td>maria3124</td>\n",
       "      <td>maria3124</td>\n",
       "      <td>Maria -Ellie</td>\n",
       "      <td>NaN</td>\n",
       "      <td>BC</td>\n",
       "      <td>CA</td>\n",
       "      <td>1258937002</td>\n",
       "      <td>NaN</td>\n",
       "      <td>I' d like to think I can make a diference in s...</td>\n",
       "      <td>...</td>\n",
       "      <td>2012-11-16 18:51:23</td>\n",
       "      <td>8.0</td>\n",
       "      <td>44</td>\n",
       "      <td>2</td>\n",
       "      <td>1</td>\n",
       "      <td>NaN</td>\n",
       "      <td>female</td>\n",
       "      <td>true</td>\n",
       "      <td>irregular</td>\n",
       "      <td>field_partner</td>\n",
       "    </tr>\n",
       "    <tr>\n",
       "      <th>4</th>\n",
       "      <td>483693</td>\n",
       "      <td>carolineandcolin9686</td>\n",
       "      <td>carolineandcolin9686</td>\n",
       "      <td>Caroline &amp; Colin</td>\n",
       "      <td>Newington</td>\n",
       "      <td>Ontario</td>\n",
       "      <td>CA</td>\n",
       "      <td>1207318672</td>\n",
       "      <td>retired</td>\n",
       "      <td>We want to share our wealth with others around...</td>\n",
       "      <td>...</td>\n",
       "      <td>2012-11-16 18:51:23</td>\n",
       "      <td>8.0</td>\n",
       "      <td>44</td>\n",
       "      <td>2</td>\n",
       "      <td>1</td>\n",
       "      <td>NaN</td>\n",
       "      <td>female</td>\n",
       "      <td>true</td>\n",
       "      <td>irregular</td>\n",
       "      <td>field_partner</td>\n",
       "    </tr>\n",
       "  </tbody>\n",
       "</table>\n",
       "<p>5 rows × 43 columns</p>\n",
       "</div>"
      ],
      "text/plain": [
       "   loan_id                lender        permanent_name      display_name  \\\n",
       "0   483693              alan5513              alan5513              Alan   \n",
       "1   483693              nick9464              nick9464     nick and anna   \n",
       "2   483693             jason3883             jason3883           Jason C   \n",
       "3   483693             maria3124             maria3124      Maria -Ellie   \n",
       "4   483693  carolineandcolin9686  carolineandcolin9686  Caroline & Colin   \n",
       "\n",
       "        city    state country_code_x  member_since     occupation  \\\n",
       "0   Edmonton  Alberta             CA    1237674751            NaN   \n",
       "1   victoria       BC             CA    1277253851  self employed   \n",
       "2    Toronto      NaN             CA    1317399503   I \"Like\" It.   \n",
       "3        NaN       BC             CA    1258937002            NaN   \n",
       "4  Newington  Ontario             CA    1207318672        retired   \n",
       "\n",
       "                                        loan_because        ...          \\\n",
       "0  A small loan is an investment in enabling some...        ...           \n",
       "1                       it helps those who need help        ...           \n",
       "2                             for a better tomorrow.        ...           \n",
       "3  I' d like to think I can make a diference in s...        ...           \n",
       "4  We want to share our wealth with others around...        ...           \n",
       "\n",
       "          raised_time lender_term  num_lenders_total num_journal_entries  \\\n",
       "0 2012-11-16 18:51:23         8.0                 44                   2   \n",
       "1 2012-11-16 18:51:23         8.0                 44                   2   \n",
       "2 2012-11-16 18:51:23         8.0                 44                   2   \n",
       "3 2012-11-16 18:51:23         8.0                 44                   2   \n",
       "4 2012-11-16 18:51:23         8.0                 44                   2   \n",
       "\n",
       "  num_bulk_entries tags borrower_genders  borrower_pictured  \\\n",
       "0                1  NaN           female               true   \n",
       "1                1  NaN           female               true   \n",
       "2                1  NaN           female               true   \n",
       "3                1  NaN           female               true   \n",
       "4                1  NaN           female               true   \n",
       "\n",
       "   repayment_interval distribution_model  \n",
       "0           irregular      field_partner  \n",
       "1           irregular      field_partner  \n",
       "2           irregular      field_partner  \n",
       "3           irregular      field_partner  \n",
       "4           irregular      field_partner  \n",
       "\n",
       "[5 rows x 43 columns]"
      ]
     },
     "execution_count": 8,
     "metadata": {},
     "output_type": "execute_result"
    }
   ],
   "source": [
    "joined_df.head(5)"
   ]
  },
  {
   "cell_type": "markdown",
   "metadata": {},
   "source": [
    "## group and sort joined data\n",
    "* group by on the joined ‘CA’ table (3.5 GB): count distinct sector_name by lender, then sort"
   ]
  },
  {
   "cell_type": "code",
   "execution_count": 30,
   "metadata": {
    "scrolled": true
   },
   "outputs": [
    {
     "name": "stdout",
     "output_type": "stream",
     "text": [
      "ellapsed time:  3.6861077610001303\n"
     ]
    },
    {
     "data": {
      "text/plain": [
       "lender\n",
       "070707Weddingtablegifts    11\n",
       "07272010                   15\n",
       "10416122                    6\n",
       "1096                        5\n",
       "11lindsaydo                10\n",
       "Name: sector_name, dtype: int64"
      ]
     },
     "execution_count": 30,
     "metadata": {},
     "output_type": "execute_result"
    }
   ],
   "source": [
    "# .nunique(): df.groupby('domain')['ID'].nunique() vs. count(): nunique does not get group names if not in index\n",
    "\n",
    "start = timeit.default_timer()\n",
    "\n",
    "country_sum_df = joined_df[['lender', 'sector_name']].groupby(['lender'], as_index=True)['sector_name'].nunique() \\\n",
    "#    .sort_values(by='sector_name', ascending=False)\n",
    "\n",
    "print('ellapsed time: ', timeit.default_timer() - start)\n",
    "\n",
    "country_sum_df.head(5)"
   ]
  },
  {
   "cell_type": "code",
   "execution_count": 31,
   "metadata": {},
   "outputs": [
    {
     "data": {
      "text/plain": [
       "(58149,)"
      ]
     },
     "execution_count": 31,
     "metadata": {},
     "output_type": "execute_result"
    }
   ],
   "source": [
    "country_sum_df.shape  # count: 58.149, nunique: 58149"
   ]
  },
  {
   "cell_type": "markdown",
   "metadata": {},
   "source": [
    "* group by on the exploded loans_lenders table (6 GB): count distinct loan_id by lender"
   ]
  },
  {
   "cell_type": "code",
   "execution_count": 33,
   "metadata": {},
   "outputs": [
    {
     "name": "stdout",
     "output_type": "stream",
     "text": [
      "ellapsed time:  33.39838374400006\n",
      "(58149,)\n"
     ]
    },
    {
     "data": {
      "text/plain": [
       "lender\n",
       "000               40\n",
       "00000             39\n",
       "0002              68\n",
       "00mike00           1\n",
       "0101craign0101    71\n",
       "Name: loan_id, dtype: int64"
      ]
     },
     "execution_count": 33,
     "metadata": {},
     "output_type": "execute_result"
    }
   ],
   "source": [
    "start = timeit.default_timer()\n",
    "\n",
    "lender_loan_count_df = loans_lenders_df.groupby(['lender'], as_index=True)['loan_id'].nunique() \\\n",
    "#    .sort_values(by='sector_name', ascending=False)\n",
    "\n",
    "print('ellapsed time: ', timeit.default_timer() - start)\n",
    "print(lender_loan_count_df.shape)\n",
    "\n",
    "lender_loan_count_df.head(5)"
   ]
  },
  {
   "cell_type": "markdown",
   "metadata": {},
   "source": [
    "- group by on the loans table (2.1 GB): sum funded_amount by sector_name"
   ]
  },
  {
   "cell_type": "code",
   "execution_count": 34,
   "metadata": {},
   "outputs": [
    {
     "name": "stdout",
     "output_type": "stream",
     "text": [
      "ellapsed time:  0.12492709700018167\n",
      "(15, 1)\n"
     ]
    },
    {
     "data": {
      "text/html": [
       "<div>\n",
       "<style scoped>\n",
       "    .dataframe tbody tr th:only-of-type {\n",
       "        vertical-align: middle;\n",
       "    }\n",
       "\n",
       "    .dataframe tbody tr th {\n",
       "        vertical-align: top;\n",
       "    }\n",
       "\n",
       "    .dataframe thead th {\n",
       "        text-align: right;\n",
       "    }\n",
       "</style>\n",
       "<table border=\"1\" class=\"dataframe\">\n",
       "  <thead>\n",
       "    <tr style=\"text-align: right;\">\n",
       "      <th></th>\n",
       "      <th>funded_amount</th>\n",
       "    </tr>\n",
       "    <tr>\n",
       "      <th>sector_name</th>\n",
       "      <th></th>\n",
       "    </tr>\n",
       "  </thead>\n",
       "  <tbody>\n",
       "    <tr>\n",
       "      <th>Agriculture</th>\n",
       "      <td>263018585.0</td>\n",
       "    </tr>\n",
       "    <tr>\n",
       "      <th>Arts</th>\n",
       "      <td>25730180.0</td>\n",
       "    </tr>\n",
       "    <tr>\n",
       "      <th>Clothing</th>\n",
       "      <td>80023415.0</td>\n",
       "    </tr>\n",
       "    <tr>\n",
       "      <th>Construction</th>\n",
       "      <td>17463740.0</td>\n",
       "    </tr>\n",
       "    <tr>\n",
       "      <th>Education</th>\n",
       "      <td>44216020.0</td>\n",
       "    </tr>\n",
       "  </tbody>\n",
       "</table>\n",
       "</div>"
      ],
      "text/plain": [
       "              funded_amount\n",
       "sector_name                \n",
       "Agriculture     263018585.0\n",
       "Arts             25730180.0\n",
       "Clothing         80023415.0\n",
       "Construction     17463740.0\n",
       "Education        44216020.0"
      ]
     },
     "execution_count": 34,
     "metadata": {},
     "output_type": "execute_result"
    }
   ],
   "source": [
    "start = timeit.default_timer()\n",
    "\n",
    "loans_sum_df = loans_df[['funded_amount', 'sector_name']].groupby(['sector_name'], as_index=True).sum() \\\n",
    "#    .sort_values(by='sector_name', ascending=False)\n",
    "\n",
    "print('ellapsed time: ', timeit.default_timer() - start)\n",
    "print(loans_sum_df.shape)\n",
    "\n",
    "loans_sum_df.head(5)"
   ]
  },
  {
   "cell_type": "code",
   "execution_count": 35,
   "metadata": {},
   "outputs": [
    {
     "data": {
      "text/plain": [
       "(1419607, 31)"
      ]
     },
     "execution_count": 35,
     "metadata": {},
     "output_type": "execute_result"
    }
   ],
   "source": [
    "loans_df.shape"
   ]
  }
 ],
 "metadata": {
  "kernelspec": {
   "display_name": "Python 3",
   "language": "python",
   "name": "python3"
  },
  "language_info": {
   "codemirror_mode": {
    "name": "ipython",
    "version": 3
   },
   "file_extension": ".py",
   "mimetype": "text/x-python",
   "name": "python",
   "nbconvert_exporter": "python",
   "pygments_lexer": "ipython3",
   "version": "3.7.3"
  },
  "toc-autonumbering": false
 },
 "nbformat": 4,
 "nbformat_minor": 2
}
