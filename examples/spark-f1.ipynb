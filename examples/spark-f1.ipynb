{
 "cells": [
  {
   "cell_type": "markdown",
   "metadata": {},
   "source": [
    "## Simple PySpark example: F-1 results\n",
    "How to read, join and aggregate data in CSV files using Spark SQL.  \n",
    "- Kaggle datase \"[Formula 1 Race Data](https://www.kaggle.com/cjgdev/formula-1-race-data-19502017)\" is used \n",
    "  - download extract the zip file\n",
    "  - place file to a location visible from the container and set relative file locations of `spark.read.csv()`\n",
    "- We would like to know which drivers spent the most time racing, and check distribution of the aggregated race times of the drivers. "
   ]
  },
  {
   "cell_type": "code",
   "execution_count": 2,
   "metadata": {},
   "outputs": [],
   "source": [
    "import findspark\n",
    "import pyspark\n",
    "from pyspark.sql import SparkSession\n",
    "from pyspark.sql.functions import explode, split\n",
    "import timeit \n",
    "\n",
    "findspark.init()\n",
    "\n",
    "# setting SparkSession config paramters are necesary to use available memory (we can also limit CPUs by eg. \n",
    "# .config('spark.default.parallelism', 5), but it uses all the CPUs by default)\n",
    "spark = SparkSession.builder \\\n",
    "    .appName('PySpark local test') \\\n",
    "    .config(\"spark.core.connection.ack.wait.timeout\", \"12000\") \\\n",
    "    .config(\"spark.driver.maxResultSize\", \"4g\") \\\n",
    "    .config('spark.executor.memory', '4G') \\\n",
    "    .config('spark.driver.memory', '5G') \\\n",
    "    .getOrCreate()"
   ]
  },
  {
   "cell_type": "markdown",
   "metadata": {},
   "source": [
    "### Define relevant CSV data sources"
   ]
  },
  {
   "cell_type": "code",
   "execution_count": 2,
   "metadata": {},
   "outputs": [
    {
     "name": "stdout",
     "output_type": "stream",
     "text": [
      "+--------+----------+------+----+--------+----------+----------+-----------+--------------------+\n",
      "|driverId| driverRef|number|code|forename|   surname|       dob|nationality|                 url|\n",
      "+--------+----------+------+----+--------+----------+----------+-----------+--------------------+\n",
      "|       1|  hamilton|    44| HAM|   Lewis|  Hamilton|07/01/1985|    British|http://en.wikiped...|\n",
      "|       2|  heidfeld|  null| HEI|    Nick|  Heidfeld|10/05/1977|     German|http://en.wikiped...|\n",
      "|       3|   rosberg|     6| ROS|    Nico|   Rosberg|27/06/1985|     German|http://en.wikiped...|\n",
      "|       4|    alonso|    14| ALO|Fernando|    Alonso|29/07/1981|    Spanish|http://en.wikiped...|\n",
      "|       5|kovalainen|  null| KOV|  Heikki|Kovalainen|19/10/1981|    Finnish|http://en.wikiped...|\n",
      "+--------+----------+------+----+--------+----------+----------+-----------+--------------------+\n",
      "only showing top 5 rows\n",
      "\n"
     ]
    }
   ],
   "source": [
    "drivers_df = spark.read.csv(\"../../formula-1-race-data/drivers.csv\", header=True, encoding=\"latin1\")\n",
    "drivers_df.createOrReplaceTempView(\"drivers\")\n",
    "#drivers_df.printSchema()\n",
    "drivers_df.show(5)"
   ]
  },
  {
   "cell_type": "code",
   "execution_count": 3,
   "metadata": {},
   "outputs": [
    {
     "name": "stdout",
     "output_type": "stream",
     "text": [
      "+------+--------+---+--------+--------+------------+\n",
      "|raceId|driverId|lap|position|    time|milliseconds|\n",
      "+------+--------+---+--------+--------+------------+\n",
      "|   841|      20|  1|       1|1:38.109|       98109|\n",
      "|   841|      20|  2|       1|1:33.006|       93006|\n",
      "|   841|      20|  3|       1|1:32.713|       92713|\n",
      "|   841|      20|  4|       1|1:32.803|       92803|\n",
      "|   841|      20|  5|       1|1:32.342|       92342|\n",
      "+------+--------+---+--------+--------+------------+\n",
      "only showing top 5 rows\n",
      "\n"
     ]
    }
   ],
   "source": [
    "lap_times_df = spark.read.csv(\"../../formula-1-race-data/lapTimes.csv\", header=True)      # 2.1 GB file, 1.419.607 lines\n",
    "lap_times_df.createOrReplaceTempView(\"lap_times\") \n",
    "lap_times_df.show(5)"
   ]
  },
  {
   "cell_type": "markdown",
   "metadata": {},
   "source": [
    "### Sum up lap times of drivers\n",
    "- project on relevant columns, group by driverId, sum times in milliseconds\n",
    "- draw histogram of times\n",
    "- filter drivers over 100 hours\n",
    "- add time values in hours"
   ]
  },
  {
   "cell_type": "code",
   "execution_count": 4,
   "metadata": {},
   "outputs": [
    {
     "name": "stdout",
     "output_type": "stream",
     "text": [
      "+--------+----------------+------------------+\n",
      "|driverId|milliseconds_sum|         hours_sum|\n",
      "+--------+----------------+------------------+\n",
      "|      18|   1.556614792E9| 432.3929977777778|\n",
      "|       4|   1.513292145E9|420.35892916666666|\n",
      "|      13|    1.42968693E9|397.13525833333335|\n",
      "|      22|    1.34170681E9| 372.6963361111111|\n",
      "|       8|   1.328518217E9|369.03283805555554|\n",
      "+--------+----------------+------------------+\n",
      "only showing top 5 rows\n",
      "\n"
     ]
    }
   ],
   "source": [
    "times_sum_df = spark.sql(\"\"\"\n",
    "select t.driverId, sum(t.milliseconds) as milliseconds_sum, sum(t.milliseconds)/(1000*60*60) as hours_sum\n",
    "from   lap_times t\n",
    "group by t.driverId\n",
    "order by sum(t.milliseconds) desc\n",
    "\"\"\")\n",
    "\n",
    "times_sum_df.createOrReplaceTempView(\"times_sum\")\n",
    "times_sum_df.show(5)"
   ]
  },
  {
   "cell_type": "code",
   "execution_count": 8,
   "metadata": {},
   "outputs": [
    {
     "data": {
      "text/plain": [
       "array([[<matplotlib.axes._subplots.AxesSubplot object at 0x7f94c6b5deb8>]],\n",
       "      dtype=object)"
      ]
     },
     "execution_count": 8,
     "metadata": {},
     "output_type": "execute_result"
    },
    {
     "data": {
      "image/png": "[encoded data removed]",
      "text/plain": [
       "<Figure size 432x288 with 1 Axes>"
      ]
     },
     "metadata": {
      "needs_background": "light"
     },
     "output_type": "display_data"
    }
   ],
   "source": [
    "# we use the toPandas() function as the easiest way to draw histograms (the same as with the Pandas example)\n",
    "times_sum_df.toPandas().hist(column='hours_sum', bins=20)"
   ]
  },
  {
   "cell_type": "markdown",
   "metadata": {},
   "source": [
    "### Join driver data\n",
    "filter on hours over 100, and display toplist as a barchart "
   ]
  },
  {
   "cell_type": "code",
   "execution_count": 9,
   "metadata": {},
   "outputs": [
    {
     "name": "stdout",
     "output_type": "stream",
     "text": [
      "+--------+----+-----------+--------+-----------+------------------+\n",
      "|driverId|code|  driverRef|forename|    surname|         hours_sum|\n",
      "+--------+----+-----------+--------+-----------+------------------+\n",
      "|      18| BUT|     button|  Jenson|     Button| 432.3929977777778|\n",
      "|       4| ALO|     alonso|Fernando|     Alonso|420.35892916666666|\n",
      "|      13| MAS|      massa|  Felipe|      Massa|397.13525833333335|\n",
      "|      22| BAR|barrichello|  Rubens|Barrichello| 372.6963361111111|\n",
      "|       8| RAI|  raikkonen|    Kimi|RÌ_ikkÌ¦nen|369.03283805555554|\n",
      "+--------+----+-----------+--------+-----------+------------------+\n",
      "only showing top 5 rows\n",
      "\n"
     ]
    }
   ],
   "source": [
    "times_sum_df = spark.sql(\"\"\"\n",
    "select d.driverId, d.code, d.driverRef, d.forename, d.surname, t.hours_sum\n",
    "from   times_sum t\n",
    "         inner join drivers d on d.driverId = t.driverId\n",
    "where t.hours_sum >= 100\n",
    "order by hours_sum desc\n",
    "\"\"\")\n",
    "\n",
    "times_sum_df.createOrReplaceTempView(\"times_sum\")\n",
    "times_sum_df.show(5)"
   ]
  },
  {
   "cell_type": "code",
   "execution_count": 7,
   "metadata": {},
   "outputs": [
    {
     "data": {
      "text/plain": [
       "<matplotlib.axes._subplots.AxesSubplot at 0x7f94c71d6668>"
      ]
     },
     "execution_count": 7,
     "metadata": {},
     "output_type": "execute_result"
    },
    {
     "data": {
      "image/png": "[encoded data removed]",
      "text/plain": [
       "<Figure size 1008x720 with 1 Axes>"
      ]
     },
     "metadata": {
      "needs_background": "light"
     },
     "output_type": "display_data"
    }
   ],
   "source": [
    "times_sum_df.toPandas().plot.barh(y='hours_sum', x='driverRef', figsize=(14,10))"
   ]
  }
 ],
 "metadata": {
  "kernelspec": {
   "display_name": "Python 3",
   "language": "python",
   "name": "python3"
  },
  "language_info": {
   "codemirror_mode": {
    "name": "ipython",
    "version": 3
   },
   "file_extension": ".py",
   "mimetype": "text/x-python",
   "name": "python",
   "nbconvert_exporter": "python",
   "pygments_lexer": "ipython3",
   "version": "3.7.3"
  },
  "toc-autonumbering": false
 },
 "nbformat": 4,
 "nbformat_minor": 2
}
