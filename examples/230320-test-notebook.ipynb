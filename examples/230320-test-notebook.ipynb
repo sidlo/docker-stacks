{
 "cells": [
  {
   "cell_type": "code",
   "execution_count": null,
   "id": "380808ea-f9ed-481b-aea3-991a8ef06a70",
   "metadata": {},
   "outputs": [],
   "source": [
    "import pandas as pd\n",
    "import numpy as np\n",
    "print(pd.__version__)\n",
    "print(pd.Index([1, 2, 3], dtype=np.int8))\n",
    "# pandas2 shows dtype='int8'\n",
    "# older versions show dtype='int64'"
   ]
  },
  {
   "cell_type": "code",
   "execution_count": null,
   "id": "867efe53-c498-4407-9725-98402c26d713",
   "metadata": {},
   "outputs": [],
   "source": []
  },
  {
   "cell_type": "markdown",
   "id": "4a74f4c8",
   "metadata": {
    "tags": []
   },
   "source": [
    "# Test plotly"
   ]
  },
  {
   "cell_type": "code",
   "execution_count": null,
   "id": "07b80954-2960-45cc-a92e-1002cd885563",
   "metadata": {
    "jp-MarkdownHeadingCollapsed": true,
    "tags": []
   },
   "outputs": [],
   "source": [
    "import plotly\n",
    "import plotly.express as plotly_express\n",
    "plotly.offline.init_notebook_mode(connected=True) # needed in notebooks interface!!!\n",
    "fig = plotly_express.bar(x=[\"a\", \"b\", \"c\"], y=[1, 3, 2])\n",
    "fig.show()"
   ]
  },
  {
   "cell_type": "code",
   "execution_count": null,
   "id": "6dd24384",
   "metadata": {},
   "outputs": [],
   "source": [
    "print(plotly.__version__)"
   ]
  },
  {
   "cell_type": "markdown",
   "id": "a280c9d5",
   "metadata": {},
   "source": [
    "# Test bqplot"
   ]
  },
  {
   "cell_type": "code",
   "execution_count": null,
   "id": "20a1653b-1f4a-47d3-8af5-ae0e216a229b",
   "metadata": {},
   "outputs": [],
   "source": [
    "import bqplot.pyplot as plt\n",
    "import numpy as np\n",
    "\n",
    "fig = plt.figure(title=\"Sine\")\n",
    "\n",
    "# create data vectors\n",
    "x = np.linspace(-10, 10, 200)\n",
    "y = np.sin(x)\n",
    "\n",
    "# create line mark\n",
    "line = plt.plot(x, y)\n",
    "\n",
    "# renders the figure in the output cell (with toolbar for panzoom, save etc.)\n",
    "plt.show()"
   ]
  },
  {
   "cell_type": "markdown",
   "id": "d5a6354c",
   "metadata": {},
   "source": [
    "# Test bokeh"
   ]
  },
  {
   "cell_type": "code",
   "execution_count": null,
   "id": "59f84f84",
   "metadata": {},
   "outputs": [],
   "source": [
    "from bokeh import plotting as bokeh_plotting\n",
    "from bokeh import io as bokeh_io\n",
    "# prepare some data\n",
    "x = [1, 2, 3, 4, 5]\n",
    "y = [6, 7, 2, 4, 5]\n",
    "# create a new plot with a title and axis labels\n",
    "p = bokeh_plotting.figure(title=\"Simple line example\", x_axis_label='x', y_axis_label='y')\n",
    "# add a line renderer with legend and line thickness to the plot\n",
    "p.line(x, y, legend_label=\"Temp.\", line_width=2)\n",
    "# show the results\n",
    "bokeh_io.output_notebook() # needed in notebooks interface!!!\n",
    "bokeh_plotting.show(p)"
   ]
  },
  {
   "cell_type": "markdown",
   "id": "93b99f56",
   "metadata": {},
   "source": [
    "# Test geojson"
   ]
  },
  {
   "cell_type": "code",
   "execution_count": null,
   "id": "5fb1db75",
   "metadata": {},
   "outputs": [],
   "source": [
    "from IPython.display import GeoJSON\n",
    "GeoJSON({\n",
    "    \"type\": \"Feature\",\n",
    "    \"geometry\": {\n",
    "        \"type\": \"Point\",\n",
    "        \"coordinates\": [-118.4563712, 34.0163116]\n",
    "    }\n",
    "})"
   ]
  },
  {
   "cell_type": "code",
   "execution_count": null,
   "id": "ae5ba424",
   "metadata": {},
   "outputs": [],
   "source": [
    "import notebook\n",
    "print(notebook.__version__)"
   ]
  },
  {
   "cell_type": "markdown",
   "id": "767e8c2f-beb2-457b-adb5-da4b628d0817",
   "metadata": {},
   "source": [
    "# Test ElasticSearch"
   ]
  },
  {
   "cell_type": "code",
   "execution_count": null,
   "id": "57c1fd6d",
   "metadata": {},
   "outputs": [],
   "source": [
    "# Supress security warnings when using no authentication/TLS:\n",
    "# set \"xpack.security.enabled: false\" in the \"elasticsearch.yml\"\n",
    "# https://discuss.elastic.co/t/is-it-possible-to-turn-off-elasticsearch-built-in-security-features-are-not-enabled-notifications/286167\n",
    "\n",
    "from datetime import datetime\n",
    "import elasticsearch\n",
    "from elasticsearch import Elasticsearch\n",
    "\n",
    "es = Elasticsearch('http://localhost:9200')\n",
    "\n",
    "print(\"Client version: {}\".format(\".\".join(map(str, elasticsearch.__version__))))\n",
    "print(\"Server version: {}\".format(es.info()['version']['number']))\n",
    "print(\"Server info: {}\".format(es.info()))\n",
    "print()\n",
    "\n",
    "doc = {\n",
    "    'author': 'kimchy',\n",
    "    'text': 'Elasticsearch: cool. bonsai cool.',\n",
    "    'timestamp': datetime.now(),\n",
    "}\n",
    "resp = es.index(index=\"test-index\", id=1, document=doc)\n",
    "print(resp['result'])\n",
    "\n",
    "resp = es.get(index=\"test-index\", id=1)\n",
    "print(resp['_source'])\n",
    "\n",
    "es.indices.refresh(index=\"test-index\")\n",
    "\n",
    "resp = es.search(index=\"test-index\", query={\"match_all\": {}})\n",
    "print(\"Got %d Hits:\" % resp['hits']['total']['value'])\n",
    "for hit in resp['hits']['hits']:\n",
    "    print(\"%(timestamp)s %(author)s: %(text)s\" % hit[\"_source\"])"
   ]
  },
  {
   "cell_type": "markdown",
   "id": "f65a0898-4f6c-4682-aa58-60cdb0871a70",
   "metadata": {},
   "source": [
    "# Test polars"
   ]
  },
  {
   "cell_type": "code",
   "execution_count": null,
   "id": "6a303745-e28d-4700-922c-701583da08c3",
   "metadata": {},
   "outputs": [],
   "source": [
    "import polars as pl\n",
    "\n",
    "df = pl.read_csv(\"https://j.mp/iriscsv\")\n",
    "print(df.filter(pl.col(\"sepal_length\") > 5)\n",
    "      .groupby(\"species\", maintain_order=True)\n",
    "      .agg(pl.all().sum())\n",
    ")"
   ]
  },
  {
   "cell_type": "markdown",
   "id": "4774fb02-a58a-46eb-a59f-27fc58690058",
   "metadata": {},
   "source": [
    "# Test vaex"
   ]
  },
  {
   "cell_type": "code",
   "execution_count": null,
   "id": "8241dd8f-849f-45e6-a36e-9359b599f187",
   "metadata": {
    "tags": []
   },
   "outputs": [],
   "source": [
    "import vaex\n",
    "df = vaex.example()\n",
    "df"
   ]
  },
  {
   "cell_type": "markdown",
   "id": "8c780f53-9d05-4d52-9818-2d6cb13ce6c9",
   "metadata": {
    "tags": []
   },
   "source": [
    "# Test asammdf"
   ]
  },
  {
   "cell_type": "code",
   "execution_count": null,
   "id": "f63245e8-6942-448a-92f6-00101ce9cec6",
   "metadata": {
    "tags": []
   },
   "outputs": [],
   "source": [
    "from asammdf import Signal\n",
    "import numpy as np\n",
    "import matplotlib\n",
    "\n",
    "\n",
    "# create 3 Signal objects with different time stamps\n",
    "\n",
    "# unit8 with 100ms time raster\n",
    "timestamps = np.array([0.1 * t for t in range(5)], dtype=np.float32)\n",
    "s_uint8 = Signal(samples=np.array([t for t in range(5)], dtype=np.uint8),\n",
    "                 timestamps=timestamps,\n",
    "                 name='Uint8_Signal',\n",
    "                 unit='u1')\n",
    "\n",
    "# int32 with 50ms time raster\n",
    "timestamps = np.array([0.05 * t for t in range(10)], dtype=np.float32)\n",
    "s_int32 = Signal(samples=np.array(list(range(-500, 500, 100)), dtype=np.int32),\n",
    "                 timestamps=timestamps,\n",
    "                 name='Int32_Signal',\n",
    "                 unit='i4')\n",
    "\n",
    "# float64 with 300ms time raster\n",
    "timestamps = np.array([0.3 * t for t in range(3)], dtype=np.float32)\n",
    "s_float64 = Signal(samples=np.array(list(range(2000, -1000, -1000)), dtype=np.int32),\n",
    "                   timestamps=timestamps,\n",
    "                   name='Float64_Signal',\n",
    "                   unit='f8')\n",
    "\n",
    "# map signals\n",
    "xs = np.linspace(-1, 1, 50)\n",
    "ys = np.linspace(-1, 1, 50)\n",
    "X, Y = np.meshgrid(xs, ys)\n",
    "vals = np.linspace(0, 180. / np.pi, 100)\n",
    "phi = np.ones((len(vals), 50, 50), dtype=np.float64)\n",
    "for i, val in enumerate(vals):\n",
    "    phi[i] *= val\n",
    "R = 1 - np.sqrt(X**2 + Y**2)\n",
    "samples = np.cos(2 * np.pi * X + phi) * R\n",
    "\n",
    "timestamps = np.arange(0, 2, 0.02)\n",
    "\n",
    "s_map = Signal(samples=samples,\n",
    "               timestamps=timestamps,\n",
    "               name='Variable Map Signal',\n",
    "               unit='dB')\n",
    "s_map#.plot()\n",
    "\n",
    "\n",
    "# prod = s_float64 * s_uint8\n",
    "# prod.name = 'Uint8_Signal * Float64_Signal'\n",
    "# prod.unit = '*'\n",
    "# prod.plot()\n",
    "\n",
    "# pow2 = s_uint8 ** 2\n",
    "# pow2.name = 'Uint8_Signal ^ 2'\n",
    "# pow2.unit = 'u1^2'\n",
    "# pow2.plot()\n",
    "\n",
    "# allsum = s_uint8 + s_int32 + s_float64\n",
    "# allsum.name = 'Uint8_Signal + Int32_Signal + Float64_Signal'\n",
    "# allsum.unit = '+'\n",
    "# allsum.plot()\n",
    "\n",
    "# # inplace operations\n",
    "# pow2 *= -1\n",
    "# pow2.name = '- Uint8_Signal ^ 2'\n",
    "# pow2.plot()\n",
    "\n",
    "# # cut signal\n",
    "# s_int32.plot()\n",
    "# cut_signal = s_int32.cut(start=0.2, stop=0.35)\n",
    "# cut_signal.plot()"
   ]
  },
  {
   "cell_type": "markdown",
   "id": "d085f46a-e1c0-4eb3-b3e3-3ea7afcc8662",
   "metadata": {},
   "source": [
    "# Test openpyxl"
   ]
  },
  {
   "cell_type": "code",
   "execution_count": null,
   "id": "14ccc567-8c4e-4a52-94de-b8a12410364f",
   "metadata": {
    "tags": []
   },
   "outputs": [],
   "source": [
    "import openpyxl\n",
    "print(openpyxl.__version__)\n",
    "wb = openpyxl.Workbook()\n",
    "ws = wb.create_sheet(\"Another sheet\")\n",
    "print(wb.sheetnames)"
   ]
  },
  {
   "cell_type": "markdown",
   "id": "95166ccb-4ad6-43f5-bccd-9ad7c7e9394f",
   "metadata": {},
   "source": [
    "# Test packages formerly installed with pip"
   ]
  },
  {
   "cell_type": "code",
   "execution_count": null,
   "id": "684e6818-56a1-4205-8dab-b3914261d92a",
   "metadata": {
    "tags": []
   },
   "outputs": [],
   "source": [
    "import twython\n",
    "import scrapy\n",
    "import nltk\n",
    "import xmltodict\n",
    "import graphviz\n",
    "import pydotplus\n",
    "from pydotplus import graphviz as pydotplus_graphviz\n",
    "from pydotplus import parser as pydotplus_parser\n",
    "import psycopg2\n",
    "from google.cloud import bigquery\n",
    "import itables\n",
    "import compress_pickle\n",
    "import xgboost\n",
    "import tensorflow as tf\n",
    "from tensorflow import keras\n",
    "import chainer\n",
    "import pymongo"
   ]
  },
  {
   "cell_type": "code",
   "execution_count": null,
   "id": "99c02bea-1b4d-45a8-b041-e42bb9b6f588",
   "metadata": {
    "tags": []
   },
   "outputs": [],
   "source": [
    "for package in [\n",
    "    twython, scrapy, nltk, xmltodict, graphviz,\n",
    "    psycopg2, bigquery, itables, compress_pickle, xgboost, tf, keras, chainer, pymongo\n",
    "]:\n",
    "    print(\"{} version: {}\".format(package.__name__, package.__version__))"
   ]
  },
  {
   "cell_type": "code",
   "execution_count": null,
   "id": "b3ac6b77-b6b3-49b3-998b-6859c16a7d18",
   "metadata": {
    "tags": []
   },
   "outputs": [],
   "source": [
    "for package in [\n",
    "    pydotplus, pydotplus_graphviz, pydotplus_parser\n",
    "]:\n",
    "    print(\"{} package: {}\".format(package.__name__, package.__package__))\n",
    "pydotplus, pydotplus_graphviz, pydotplus_parser"
   ]
  },
  {
   "cell_type": "markdown",
   "id": "b1d86f29-931a-4655-92e9-be59bcb18cff",
   "metadata": {},
   "source": [
    "## Test graphviz"
   ]
  },
  {
   "cell_type": "code",
   "execution_count": null,
   "id": "e9433229-67d0-490c-9902-6e7cf6ade2c3",
   "metadata": {
    "tags": []
   },
   "outputs": [],
   "source": [
    "g = graphviz.Digraph('G', filename='')\n",
    "g.edge('alma', 'korte')\n",
    "g"
   ]
  },
  {
   "cell_type": "code",
   "execution_count": null,
   "id": "03cc79c2-27c3-4e73-ad84-b2ecf433fc3f",
   "metadata": {
    "tags": []
   },
   "outputs": [],
   "source": [
    "g = pydotplus_graphviz.Graph()\n",
    "g.set_type('digraph')\n",
    "g.add_node(pydotplus.Node(\"alma\"))\n",
    "g.add_node(pydotplus.Node(\"korte\"))\n",
    "g.add_edge(pydotplus.Edge(\"alma\", \"korte\"))\n",
    "print(g.to_string())"
   ]
  },
  {
   "cell_type": "markdown",
   "id": "292d229a-d225-4d80-ba93-95e9c7528afb",
   "metadata": {},
   "source": [
    "## Test xgboost"
   ]
  },
  {
   "cell_type": "code",
   "execution_count": null,
   "id": "35227efb-1739-4069-82b6-5561e233cdbe",
   "metadata": {
    "tags": []
   },
   "outputs": [],
   "source": [
    "from xgboost import XGBClassifier\n",
    "# read data\n",
    "from sklearn.datasets import load_iris\n",
    "from sklearn.model_selection import train_test_split\n",
    "data = load_iris()\n",
    "X_train, X_test, y_train, y_test = train_test_split(data['data'], data['target'], test_size=.2)\n",
    "# create model instance\n",
    "bst = XGBClassifier(n_estimators=2, max_depth=2, learning_rate=1, objective='binary:logistic')\n",
    "# fit model\n",
    "bst.fit(X_train, y_train)\n",
    "# make predictions\n",
    "preds = bst.predict(X_test)\n",
    "preds"
   ]
  },
  {
   "cell_type": "markdown",
   "id": "31bc00f8-42b2-4437-b98a-d57522e3c867",
   "metadata": {},
   "source": [
    "## Test keras (tensorflow.keras)"
   ]
  },
  {
   "cell_type": "code",
   "execution_count": null,
   "id": "8a252f59-6bc5-4509-93ab-706e120f035a",
   "metadata": {},
   "outputs": [],
   "source": [
    "mnist = tf.keras.datasets.mnist\n",
    "(x_train, y_train), (x_test, y_test) = mnist.load_data()\n",
    "x_train, x_test = x_train / 255.0, x_test / 255.0\n",
    "\n",
    "model = tf.keras.models.Sequential([\n",
    "  tf.keras.layers.Flatten(input_shape=(28, 28)),\n",
    "  tf.keras.layers.Dense(128, activation='relu'),\n",
    "  tf.keras.layers.Dropout(0.2),\n",
    "  tf.keras.layers.Dense(10)\n",
    "])\n",
    "\n",
    "predictions = model(x_train[:1]).numpy()\n",
    "print(predictions)\n",
    "print(tf.nn.softmax(predictions).numpy())"
   ]
  },
  {
   "cell_type": "code",
   "execution_count": null,
   "id": "cbc617d0-70a9-4238-88bc-5dbd0d302703",
   "metadata": {},
   "outputs": [],
   "source": []
  }
 ],
 "metadata": {
  "kernelspec": {
   "display_name": "Python 3 (ipykernel)",
   "language": "python",
   "name": "python3"
  },
  "language_info": {
   "codemirror_mode": {
    "name": "ipython",
    "version": 3
   },
   "file_extension": ".py",
   "mimetype": "text/x-python",
   "name": "python",
   "nbconvert_exporter": "python",
   "pygments_lexer": "ipython3",
   "version": "3.10.9"
  },
  "toc": {
   "base_numbering": 1,
   "nav_menu": {},
   "number_sections": true,
   "sideBar": true,
   "skip_h1_title": false,
   "title_cell": "Table of Contents",
   "title_sidebar": "Contents",
   "toc_cell": false,
   "toc_position": {
    "height": "calc(100% - 180px)",
    "left": "10px",
    "top": "150px",
    "width": "268.6px"
   },
   "toc_section_display": true,
   "toc_window_display": true
  }
 },
 "nbformat": 4,
 "nbformat_minor": 5
}
